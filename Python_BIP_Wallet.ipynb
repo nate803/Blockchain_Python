{
 "cells": [
  {
   "cell_type": "markdown",
   "metadata": {},
   "source": [
    "## Bitcoin Wallets\n",
    "## Bip_Wallet and Mnemonic Words"
   ]
  },
  {
   "cell_type": "code",
   "execution_count": 5,
   "metadata": {},
   "outputs": [
    {
     "name": "stdout",
     "output_type": "stream",
     "text": [
      "------------------------------- Public and Privet Keys for Each Child -----------------------------------------\n",
      "{'Child_0': {'address': '11taHRG2ztS1LkVoWuSNsU9uff7S7x7pA',\n",
      "             'bip32_extended_private_key': 'xprvA2oCMsxxgqt75Qc9fstkUsf79R3so5gFsbQYAdiYaK3ncCQubsxaRoXGsKuRTV2384k1ChowR38RrZJ7F83ttMgd4cGK4cHLs4LnJazsAUF',\n",
      "             'bip32_root_key': 'xprv9s21ZrQH143K34N3qgoQ8jCbNnvyYCmG7Qu3fc2vnzdYuyDZXMcUKd3JzwZvu583WS45dN1bThKeefouot46L6chV9Yvn796XkHUwjiV4SY',\n",
      "             'coin': 'BTC',\n",
      "             'mnemonic_words': 'present mouse weapon muscle arena fee kiss '\n",
      "                               'appear dad ten faint cousin',\n",
      "             'path': \"m/44'/0'/0'/0\",\n",
      "             'privatekey': 'KwFHSDCDWxzRg41XcaDCCpP8jRKfxfYXNy5ctnKr978EppzFCgcW',\n",
      "             'publickey': '03a238c1d7cd0c0c4160ead8a6be3b1b0f878a1a00b299fee6aa2bbf0ffbcef48d'},\n",
      " 'Child_1': {'address': '18fxWPt9JTNAEw6BAfrGCTYSaVFjSobXfF',\n",
      "             'bip32_extended_private_key': 'xprvA2oCMsxxgqt77hjUaAFX8VRwo1KAY6pHacYAPC17X3f3QmwMXVuUuUqWFrLineNGyStVpg3SfymZLqW6xZDg5XpPCicX5BDbMTVtJB7ZZrh',\n",
      "             'bip32_root_key': 'xprv9s21ZrQH143K34N3qgoQ8jCbNnvyYCmG7Qu3fc2vnzdYuyDZXMcUKd3JzwZvu583WS45dN1bThKeefouot46L6chV9Yvn796XkHUwjiV4SY',\n",
      "             'coin': 'BTC',\n",
      "             'mnemonic_words': 'present mouse weapon muscle arena fee kiss '\n",
      "                               'appear dad ten faint cousin',\n",
      "             'path': \"m/44'/0'/0'/1\",\n",
      "             'privatekey': 'L2Amcvsy7wodaaKhpe2WkUoViiJSPE1Axr65GD8rXXDiyMp6j3Wn',\n",
      "             'publickey': '03db1b23b9b606d875ceefc705d8b0d13238c1ea2c1c9bff12cee22973d3c42fb2'},\n",
      " 'Child_2': {'address': '1fNTsDeD7oPUC8yCAMgExom48PxmWkzQo',\n",
      "             'bip32_extended_private_key': 'xprvA2oCMsxxgqt79HJ7Fk8KfduPgpyEZM4ogmJWS1oeKxmzWbxK5nGDjzNr2tNMBgGvG3WwQmLdbKuA9aEUL1QGMCrzS26aypHGSUYx5UWUG6G',\n",
      "             'bip32_root_key': 'xprv9s21ZrQH143K34N3qgoQ8jCbNnvyYCmG7Qu3fc2vnzdYuyDZXMcUKd3JzwZvu583WS45dN1bThKeefouot46L6chV9Yvn796XkHUwjiV4SY',\n",
      "             'coin': 'BTC',\n",
      "             'mnemonic_words': 'present mouse weapon muscle arena fee kiss '\n",
      "                               'appear dad ten faint cousin',\n",
      "             'path': \"m/44'/0'/0'/2\",\n",
      "             'privatekey': 'L44L7cJv8dCdyvXCjXi9zDjJF44HQaixTJruHnLpBe8GhjpWCcAz',\n",
      "             'publickey': '032c4e4dd90053c2be8213dcc4f2a4b207138437bb0b53e6061cfa4560e7dc84a1'}}\n"
     ]
    }
   ],
   "source": [
    "import pprint\n",
    "import binascii\n",
    "import mnemonic\n",
    "import bip32utils\n",
    "def bip39(mnemonic_words, children):\n",
    "    '''\n",
    "    mnemonic_words: 12 word mnemonic.\n",
    "    children: positive integer for num of address desired.\n",
    "    FUTURE IMPLEMENT...\n",
    "    - choose coin\n",
    "    - return main account information\n",
    "    '''\n",
    "    mobj = mnemonic.Mnemonic(\"english\")\n",
    "    seed = mobj.to_seed(mnemonic_words)\n",
    "    holder = {}\n",
    "    if children < 0:\n",
    "        raise ValueError('Children must be positive.')\n",
    "    for child in range(children):\n",
    "        bip32_root_key_obj = bip32utils.BIP32Key.fromEntropy(seed)\n",
    "        bip32_child_key_obj = bip32_root_key_obj.ChildKey(\n",
    "            44 + bip32utils.BIP32_HARDEN\n",
    "        ).ChildKey(\n",
    "            0 + bip32utils.BIP32_HARDEN\n",
    "        ).ChildKey(\n",
    "            0 + bip32utils.BIP32_HARDEN\n",
    "        ).ChildKey(0).ChildKey(child)\n",
    "        template = {\n",
    "            'mnemonic_words': mnemonic_words,\n",
    "            'bip32_root_key': bip32_root_key_obj.ExtendedKey(),\n",
    "            'bip32_extended_private_key': bip32_child_key_obj.ExtendedKey(),\n",
    "            'path': f\"m/44'/0'/0'/{child}\",\n",
    "            'address': bip32_child_key_obj.Address(),\n",
    "            'publickey': binascii.hexlify(bip32_child_key_obj.PublicKey()).decode(),\n",
    "            'privatekey': bip32_child_key_obj.WalletImportFormat(),\n",
    "            'coin': 'BTC'\n",
    "        }\n",
    "        holder[f'Child_{child}'] = template\n",
    "    return holder\n",
    "mnemonic_words = \"present mouse weapon muscle arena fee kiss appear dad ten faint cousin\"\n",
    "children = 3\n",
    "print(\"------------------------------- Public and Privet Keys for Each Child -----------------------------------------\")\n",
    "pprint.pprint(bip39(mnemonic_words, children))"
   ]
  },
  {
   "cell_type": "code",
   "execution_count": null,
   "metadata": {},
   "outputs": [],
   "source": []
  }
 ],
 "metadata": {
  "kernelspec": {
   "display_name": "Python 3",
   "language": "python",
   "name": "python3"
  },
  "language_info": {
   "codemirror_mode": {
    "name": "ipython",
    "version": 3
   },
   "file_extension": ".py",
   "mimetype": "text/x-python",
   "name": "python",
   "nbconvert_exporter": "python",
   "pygments_lexer": "ipython3",
   "version": "3.7.7"
  }
 },
 "nbformat": 4,
 "nbformat_minor": 4
}